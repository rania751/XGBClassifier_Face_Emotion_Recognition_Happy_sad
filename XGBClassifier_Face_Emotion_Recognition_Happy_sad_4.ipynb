{
  "cells": [
    {
      "cell_type": "code",
      "execution_count": 1,
      "metadata": {
        "id": "ehR0MhW-VN7b"
      },
      "outputs": [],
      "source": [
        "import tensorflow as tf\n",
        "import keras\n",
        "import cv2\n",
        "import numpy as np\n",
        "import itertools\n",
        "import os\n",
        "import seaborn as sns\n",
        "from sklearn import preprocessing\n",
        "import matplotlib.pyplot as plt"
      ]
    },
    {
      "cell_type": "code",
      "execution_count": 2,
      "metadata": {
        "id": "LBFr6MzWVeKb"
      },
      "outputs": [],
      "source": [
        "from google.colab import drive\n"
      ]
    },
    {
      "cell_type": "code",
      "execution_count": 3,
      "metadata": {
        "id": "YrjQqpn_JvJ4",
        "colab": {
          "base_uri": "https://localhost:8080/"
        },
        "outputId": "923958cd-835e-4ba1-8209-aaeda82d6aff"
      },
      "outputs": [
        {
          "output_type": "stream",
          "name": "stdout",
          "text": [
            "Drive already mounted at /content/drive; to attempt to forcibly remount, call drive.mount(\"/content/drive\", force_remount=True).\n"
          ]
        }
      ],
      "source": [
        "drive.mount('/content/drive')"
      ]
    },
    {
      "cell_type": "code",
      "execution_count": 4,
      "metadata": {
        "id": "eoiPR0ApWrxL"
      },
      "outputs": [],
      "source": [
        "dir=('/content/drive/MyDrive/dataset/train1/')"
      ]
    },
    {
      "cell_type": "code",
      "execution_count": 5,
      "metadata": {
        "id": "Qx3_ZIEqW1IH"
      },
      "outputs": [],
      "source": [
        "classes=[\"happy1\",\"sad1\"]"
      ]
    },
    {
      "cell_type": "markdown",
      "metadata": {
        "id": "3thvu7cZW7_h"
      },
      "source": [
        "read all the img and convertin them to array"
      ]
    },
    {
      "cell_type": "code",
      "execution_count": 6,
      "metadata": {
        "id": "3Qe_JWxIW120"
      },
      "outputs": [],
      "source": [
        "training_data=[]\n",
        "img_size=224 \n",
        "def create_training_data():\n",
        "  for category in classes:\n",
        "    path=os.path.join(dir,category)\n",
        "    class_num=classes.index(category)\n",
        "    for img in os.listdir(path):\n",
        "      try:\n",
        "        img_array=cv2.imread(os.path.join(path,img))\n",
        "        new_array=cv2.resize(img_array,(img_size,img_size))\n",
        "        training_data.append([new_array, class_num])\n",
        "      except Exception as e:\n",
        "        pass \n"
      ]
    },
    {
      "cell_type": "code",
      "execution_count": 7,
      "metadata": {
        "id": "g-dEykH1XDkA"
      },
      "outputs": [],
      "source": [
        "create_training_data()"
      ]
    },
    {
      "cell_type": "code",
      "execution_count": 8,
      "metadata": {
        "id": "Xi6gTtHnXEGI",
        "colab": {
          "base_uri": "https://localhost:8080/"
        },
        "outputId": "cc4180d0-adb8-453f-dacb-1c839bea0898"
      },
      "outputs": [
        {
          "output_type": "stream",
          "name": "stdout",
          "text": [
            "1778\n"
          ]
        }
      ],
      "source": [
        "print(len(training_data))"
      ]
    },
    {
      "cell_type": "code",
      "execution_count": 9,
      "metadata": {
        "id": "SPst1sQuXGaN",
        "colab": {
          "base_uri": "https://localhost:8080/"
        },
        "outputId": "fcf19a8d-4f3a-42a3-e7ed-c81b9876e985"
      },
      "outputs": [
        {
          "output_type": "stream",
          "name": "stderr",
          "text": [
            "<ipython-input-9-357a9f251f7e>:1: VisibleDeprecationWarning: Creating an ndarray from ragged nested sequences (which is a list-or-tuple of lists-or-tuples-or ndarrays with different lengths or shapes) is deprecated. If you meant to do this, you must specify 'dtype=object' when creating the ndarray.\n",
            "  temp=np.array(training_data)\n"
          ]
        }
      ],
      "source": [
        "temp=np.array(training_data)"
      ]
    },
    {
      "cell_type": "code",
      "execution_count": 10,
      "metadata": {
        "id": "zSjqhMYXXJGV",
        "colab": {
          "base_uri": "https://localhost:8080/"
        },
        "outputId": "af102698-1179-4fe5-ec5d-adcbb0f28f95"
      },
      "outputs": [
        {
          "output_type": "execute_result",
          "data": {
            "text/plain": [
              "(1778, 2)"
            ]
          },
          "metadata": {},
          "execution_count": 10
        }
      ],
      "source": [
        "temp.shape"
      ]
    },
    {
      "cell_type": "code",
      "execution_count": 11,
      "metadata": {
        "id": "ZfdU8KgLXOUx"
      },
      "outputs": [],
      "source": [
        "import random\n",
        "random.shuffle(training_data)"
      ]
    },
    {
      "cell_type": "code",
      "execution_count": 12,
      "metadata": {
        "id": "VBx4X_ksXQue"
      },
      "outputs": [],
      "source": [
        "x=[] #feature/data\n",
        "y=[] #label\n",
        "\n",
        "for features,label in training_data:\n",
        "  \n",
        "  x.append(features)\n",
        "  y.append(label)\n",
        "\n",
        "x=np.array(x)\n",
        "y=np.array(y)"
      ]
    },
    {
      "cell_type": "code",
      "execution_count": 13,
      "metadata": {
        "id": "F-N5xIt_XRat",
        "colab": {
          "base_uri": "https://localhost:8080/"
        },
        "outputId": "c5771a67-a391-4b45-dfe3-1639bb1dedd2"
      },
      "outputs": [
        {
          "output_type": "execute_result",
          "data": {
            "text/plain": [
              "(1778, 224, 224, 3)"
            ]
          },
          "metadata": {},
          "execution_count": 13
        }
      ],
      "source": [
        "x.shape"
      ]
    },
    {
      "cell_type": "code",
      "execution_count": 14,
      "metadata": {
        "id": "BPNWcpqYXTbk"
      },
      "outputs": [],
      "source": [
        "x=x/255.0"
      ]
    },
    {
      "cell_type": "code",
      "execution_count": 15,
      "metadata": {
        "id": "4nQvVZ6GLAh2"
      },
      "outputs": [],
      "source": [
        "X=x.reshape(1778,3*224*224)"
      ]
    },
    {
      "cell_type": "code",
      "execution_count": 16,
      "metadata": {
        "id": "QV_FXbAvLKOz",
        "colab": {
          "base_uri": "https://localhost:8080/"
        },
        "outputId": "6e0d46a9-d2f9-40c3-c2d6-18d95d1b12e5"
      },
      "outputs": [
        {
          "output_type": "execute_result",
          "data": {
            "text/plain": [
              "(1778, 150528)"
            ]
          },
          "metadata": {},
          "execution_count": 16
        }
      ],
      "source": [
        "X.shape"
      ]
    },
    {
      "cell_type": "code",
      "execution_count": 17,
      "metadata": {
        "id": "TLg8epSxXbDH",
        "colab": {
          "base_uri": "https://localhost:8080/"
        },
        "outputId": "3bb626f2-5290-43a9-931e-8e87e50fcca5"
      },
      "outputs": [
        {
          "output_type": "execute_result",
          "data": {
            "text/plain": [
              "(1778,)"
            ]
          },
          "metadata": {},
          "execution_count": 17
        }
      ],
      "source": [
        "y.shape"
      ]
    },
    {
      "cell_type": "code",
      "execution_count": 18,
      "metadata": {
        "id": "S4NuaruiqkDA"
      },
      "outputs": [],
      "source": [
        "dir1=('/content/drive/MyDrive/dataset/train')"
      ]
    },
    {
      "cell_type": "code",
      "execution_count": 19,
      "metadata": {
        "id": "rJQ4Ur-T97P5"
      },
      "outputs": [],
      "source": [
        "classes1=[\"H1\",\"sad\"]"
      ]
    },
    {
      "cell_type": "code",
      "execution_count": 20,
      "metadata": {
        "id": "i6becrzXqHCS"
      },
      "outputs": [],
      "source": [
        "test_data=[]\n",
        "img_size=224 \n",
        "def create_test_data():\n",
        "  for category in classes1:\n",
        "    path=os.path.join(dir1,category)\n",
        "    class_num=classes1.index(category)\n",
        "    for img in os.listdir(path):\n",
        "      try:\n",
        "        img_array=cv2.imread(os.path.join(path,img))\n",
        "        new_array=cv2.resize(img_array,(img_size,img_size))\n",
        "        test_data.append([new_array, class_num])\n",
        "      except Exception as e:\n",
        "        pass "
      ]
    },
    {
      "cell_type": "code",
      "execution_count": 21,
      "metadata": {
        "id": "7R0HB4Ofq3r8"
      },
      "outputs": [],
      "source": [
        "create_test_data()"
      ]
    },
    {
      "cell_type": "code",
      "execution_count": 22,
      "metadata": {
        "id": "cJ4eaiKcrGDJ",
        "colab": {
          "base_uri": "https://localhost:8080/"
        },
        "outputId": "2bb4a2f5-4d04-44d1-f93c-6e38501c34c7"
      },
      "outputs": [
        {
          "output_type": "stream",
          "name": "stderr",
          "text": [
            "<ipython-input-22-3bdf79796c9f>:1: VisibleDeprecationWarning: Creating an ndarray from ragged nested sequences (which is a list-or-tuple of lists-or-tuples-or ndarrays with different lengths or shapes) is deprecated. If you meant to do this, you must specify 'dtype=object' when creating the ndarray.\n",
            "  temp1=np.array(test_data)\n"
          ]
        }
      ],
      "source": [
        "temp1=np.array(test_data)"
      ]
    },
    {
      "cell_type": "code",
      "execution_count": 23,
      "metadata": {
        "id": "V4FMEtQ6rQvV",
        "colab": {
          "base_uri": "https://localhost:8080/"
        },
        "outputId": "3af574dc-6ac5-444e-8684-44be298bda80"
      },
      "outputs": [
        {
          "output_type": "execute_result",
          "data": {
            "text/plain": [
              "(72, 2)"
            ]
          },
          "metadata": {},
          "execution_count": 23
        }
      ],
      "source": [
        "temp1.shape"
      ]
    },
    {
      "cell_type": "code",
      "execution_count": 24,
      "metadata": {
        "id": "VJF-ibKUrbwB"
      },
      "outputs": [],
      "source": [
        "import random\n",
        "random.shuffle(test_data)"
      ]
    },
    {
      "cell_type": "code",
      "execution_count": 25,
      "metadata": {
        "id": "amK_BNPjr6ov"
      },
      "outputs": [],
      "source": [
        "x1=[] #feature/data\n",
        "y1=[] #label\n",
        "\n",
        "for features,label in test_data:\n",
        "  \n",
        "  x1.append(features)\n",
        "  y1.append(label)\n",
        "\n",
        "x1=np.array(x1)\n",
        "y1=np.array(y1)"
      ]
    },
    {
      "cell_type": "code",
      "execution_count": 26,
      "metadata": {
        "id": "yJdcfzEJs55e",
        "colab": {
          "base_uri": "https://localhost:8080/"
        },
        "outputId": "14df2c6d-f48a-4cd7-e4d9-9bd83b8e4196"
      },
      "outputs": [
        {
          "output_type": "execute_result",
          "data": {
            "text/plain": [
              "(72, 224, 224, 3)"
            ]
          },
          "metadata": {},
          "execution_count": 26
        }
      ],
      "source": [
        "x1.shape"
      ]
    },
    {
      "cell_type": "code",
      "execution_count": 27,
      "metadata": {
        "id": "BfKzrgsor8BJ"
      },
      "outputs": [],
      "source": [
        "a=x1.reshape(72,224*224*3)"
      ]
    },
    {
      "cell_type": "code",
      "execution_count": 28,
      "metadata": {
        "id": "-Cbw0SXwVnOv"
      },
      "outputs": [],
      "source": [
        "a=a/255.0"
      ]
    },
    {
      "cell_type": "code",
      "execution_count": 29,
      "metadata": {
        "id": "0nrpeZ_PVs6j",
        "colab": {
          "base_uri": "https://localhost:8080/"
        },
        "outputId": "672be595-cbeb-4bb1-f9d7-0d9e8e6b24fc"
      },
      "outputs": [
        {
          "output_type": "execute_result",
          "data": {
            "text/plain": [
              "array([[0.16470588, 0.16470588, 0.16470588, ..., 0.18039216, 0.18039216,\n",
              "        0.18039216],\n",
              "       [0.08627451, 0.08627451, 0.08627451, ..., 0.11372549, 0.11372549,\n",
              "        0.11372549],\n",
              "       [0.34117647, 0.34117647, 0.34117647, ..., 0.61568627, 0.61568627,\n",
              "        0.61568627],\n",
              "       ...,\n",
              "       [0.16470588, 0.16470588, 0.16470588, ..., 0.01176471, 0.01176471,\n",
              "        0.01176471],\n",
              "       [0.3372549 , 0.3372549 , 0.3372549 , ..., 0.84705882, 0.84705882,\n",
              "        0.84705882],\n",
              "       [0.81568627, 0.81568627, 0.81568627, ..., 0.28627451, 0.28627451,\n",
              "        0.28627451]])"
            ]
          },
          "metadata": {},
          "execution_count": 29
        }
      ],
      "source": [
        "a"
      ]
    },
    {
      "cell_type": "code",
      "source": [
        "X.shape"
      ],
      "metadata": {
        "colab": {
          "base_uri": "https://localhost:8080/"
        },
        "id": "pno6lkqlwR7Y",
        "outputId": "ea81f773-44f6-4bbf-a4d9-a87811d079de"
      },
      "execution_count": 30,
      "outputs": [
        {
          "output_type": "execute_result",
          "data": {
            "text/plain": [
              "(1778, 150528)"
            ]
          },
          "metadata": {},
          "execution_count": 30
        }
      ]
    },
    {
      "cell_type": "code",
      "source": [
        "y.shape"
      ],
      "metadata": {
        "colab": {
          "base_uri": "https://localhost:8080/"
        },
        "id": "ymaN9HL-wd7L",
        "outputId": "aa08d77c-9fcd-43be-dc4a-5afcfc00746d"
      },
      "execution_count": 31,
      "outputs": [
        {
          "output_type": "execute_result",
          "data": {
            "text/plain": [
              "(1778,)"
            ]
          },
          "metadata": {},
          "execution_count": 31
        }
      ]
    },
    {
      "cell_type": "code",
      "source": [
        "a.shape"
      ],
      "metadata": {
        "colab": {
          "base_uri": "https://localhost:8080/"
        },
        "id": "4ayJtCcWx0nK",
        "outputId": "8e3ef4bf-be53-448d-b203-f4c9389b8fe2"
      },
      "execution_count": 32,
      "outputs": [
        {
          "output_type": "execute_result",
          "data": {
            "text/plain": [
              "(72, 150528)"
            ]
          },
          "metadata": {},
          "execution_count": 32
        }
      ]
    },
    {
      "cell_type": "code",
      "source": [
        "import xgboost as xgb\n",
        "my_model = xgb.XGBClassifier(n_estimators=1000, learning_rate=0.005, n_jobs=4)\n",
        "my_model.fit(X,y, \n",
        "             early_stopping_rounds=5, \n",
        "             eval_set=[(a, y1)], \n",
        "             verbose=False)"
      ],
      "metadata": {
        "colab": {
          "base_uri": "https://localhost:8080/"
        },
        "id": "8gnEnBFlvxza",
        "outputId": "b7583f53-9119-459d-9557-c9f395002030"
      },
      "execution_count": 33,
      "outputs": [
        {
          "output_type": "execute_result",
          "data": {
            "text/plain": [
              "XGBClassifier(learning_rate=0.005, n_estimators=1000, n_jobs=4)"
            ]
          },
          "metadata": {},
          "execution_count": 33
        }
      ]
    },
    {
      "cell_type": "code",
      "source": [
        "predictions = my_model.predict(a)"
      ],
      "metadata": {
        "id": "jofSHTVnPgE6"
      },
      "execution_count": 34,
      "outputs": []
    },
    {
      "cell_type": "code",
      "execution_count": 35,
      "metadata": {
        "id": "NMNf3E37t8kY"
      },
      "outputs": [],
      "source": [
        "from sklearn.metrics import classification_report,confusion_matrix"
      ]
    },
    {
      "cell_type": "code",
      "source": [
        "predictions"
      ],
      "metadata": {
        "colab": {
          "base_uri": "https://localhost:8080/"
        },
        "id": "eJkrCutqPr6a",
        "outputId": "d1e2ca5e-f3d6-41dd-9370-bc2eb6973067"
      },
      "execution_count": 36,
      "outputs": [
        {
          "output_type": "execute_result",
          "data": {
            "text/plain": [
              "array([0, 1, 0, 0, 0, 0, 0, 0, 0, 0, 0, 0, 0, 1, 0, 1, 0, 0, 0, 1, 0, 0,\n",
              "       0, 0, 1, 0, 0, 0, 0, 0, 1, 0, 0, 0, 0, 0, 0, 0, 0, 0, 0, 0, 0, 0,\n",
              "       0, 0, 0, 0, 0, 0, 0, 0, 0, 1, 1, 0, 0, 0, 0, 0, 0, 1, 0, 0, 0, 1,\n",
              "       0, 0, 0, 0, 0, 0])"
            ]
          },
          "metadata": {},
          "execution_count": 36
        }
      ]
    },
    {
      "cell_type": "code",
      "source": [
        "y1"
      ],
      "metadata": {
        "colab": {
          "base_uri": "https://localhost:8080/"
        },
        "id": "y-pQUXUteDOr",
        "outputId": "220079b9-6743-400d-a0f2-19cf443a9a28"
      },
      "execution_count": 37,
      "outputs": [
        {
          "output_type": "execute_result",
          "data": {
            "text/plain": [
              "array([0, 1, 0, 1, 0, 0, 1, 0, 0, 0, 0, 0, 0, 1, 1, 0, 1, 0, 0, 0, 0, 0,\n",
              "       0, 1, 1, 0, 0, 0, 0, 0, 1, 0, 0, 0, 0, 0, 1, 0, 1, 0, 0, 0, 1, 0,\n",
              "       1, 0, 0, 0, 0, 0, 1, 0, 0, 1, 1, 0, 0, 0, 1, 0, 0, 1, 0, 1, 1, 0,\n",
              "       0, 0, 0, 1, 0, 0])"
            ]
          },
          "metadata": {},
          "execution_count": 37
        }
      ]
    },
    {
      "cell_type": "code",
      "execution_count": 38,
      "metadata": {
        "id": "zk_xCGXQt9K-",
        "colab": {
          "base_uri": "https://localhost:8080/"
        },
        "outputId": "0f3619a5-4494-4cbc-bbed-64a05bcbc2e1"
      },
      "outputs": [
        {
          "output_type": "stream",
          "name": "stdout",
          "text": [
            "[[48  3]\n",
            " [14  7]]\n"
          ]
        }
      ],
      "source": [
        "print(confusion_matrix(y1,predictions))"
      ]
    },
    {
      "cell_type": "code",
      "execution_count": 39,
      "metadata": {
        "id": "oyCFo3gZuBpY",
        "colab": {
          "base_uri": "https://localhost:8080/"
        },
        "outputId": "d81d63d7-4aad-4d9a-9b4a-a29b6fbf348f"
      },
      "outputs": [
        {
          "output_type": "stream",
          "name": "stdout",
          "text": [
            "              precision    recall  f1-score   support\n",
            "\n",
            "           0       0.77      0.94      0.85        51\n",
            "           1       0.70      0.33      0.45        21\n",
            "\n",
            "    accuracy                           0.76        72\n",
            "   macro avg       0.74      0.64      0.65        72\n",
            "weighted avg       0.75      0.76      0.73        72\n",
            "\n"
          ]
        }
      ],
      "source": [
        "print(classification_report(y1,predictions))"
      ]
    }
  ],
  "metadata": {
    "colab": {
      "provenance": []
    },
    "gpuClass": "standard",
    "kernelspec": {
      "display_name": "Python 3",
      "name": "python3"
    },
    "language_info": {
      "name": "python"
    }
  },
  "nbformat": 4,
  "nbformat_minor": 0
}